{
 "cells": [
  {
   "cell_type": "code",
   "execution_count": 6,
   "metadata": {},
   "outputs": [],
   "source": [
    "import json\n",
    "import pandas as pd\n",
    "import json\n",
    "import requests"
   ]
  },
  {
   "cell_type": "code",
   "execution_count": 7,
   "metadata": {},
   "outputs": [
    {
     "name": "stdout",
     "output_type": "stream",
     "text": [
      "The Stock we will research is:MSFT\n"
     ]
    }
   ],
   "source": [
    "stock=input()\n",
    "print(\"The Stock we will research is:\" + stock)"
   ]
  },
  {
   "cell_type": "code",
   "execution_count": 8,
   "metadata": {},
   "outputs": [
    {
     "name": "stdout",
     "output_type": "stream",
     "text": [
      "{\"quoteSummary\":{\"result\":[{\"financialData\":{\"maxAge\":86400,\"currentPrice\":{\"raw\":283.66,\"fmt\":\"283.66\"},\"targetHighPrice\":{\"raw\":348.0,\"fmt\":\"348.00\"},\"targetLowPrice\":{\"raw\":212.0,\"fmt\":\"212.00\"},\"targetMeanPrice\":{\"raw\":291.24,\"fmt\":\"291.24\"},\"targetMedianPrice\":{\"raw\":291.0,\"fmt\":\"291.00\"},\"recommendationMean\":{\"raw\":1.9,\"fmt\":\"1.90\"},\"recommendationKey\":\"buy\",\"numberOfAnalystOpinions\":{\"raw\":45,\"fmt\":\"45\",\"longFmt\":\"45\"},\"totalCash\":{\"raw\":99495002112,\"fmt\":\"99.5B\",\"longFmt\":\"99,495,002,112\"},\"totalCashPerShare\":{\"raw\":13.366,\"fmt\":\"13.37\"},\"ebitda\":{\"raw\":97945001984,\"fmt\":\"97.95B\",\"longFmt\":\"97,945,001,984\"},\"totalDebt\":{\"raw\":77984997376,\"fmt\":\"77.98B\",\"longFmt\":\"77,984,997,376\"},\"quickRatio\":{\"raw\":1.656,\"fmt\":\"1.66\"},\"currentRatio\":{\"raw\":1.931,\"fmt\":\"1.93\"},\"totalRevenue\":{\"raw\":204093997056,\"fmt\":\"204.09B\",\"longFmt\":\"204,093,997,056\"},\"debtToEquity\":{\"raw\":42.583,\"fmt\":\"42.58\"},\"revenuePerShare\":{\"raw\":27.327,\"fmt\":\"27.33\"},\"returnOnAssets\":{\"raw\":0.14826,\"fmt\":\"14.83%\"},\"returnOnEquity\":{\"raw\":0.39312,\"fmt\":\"39.31%\"},\"grossProfits\":{\"raw\":135620000000,\"fmt\":\"135.62B\",\"longFmt\":\"135,620,000,000\"},\"freeCashflow\":{\"raw\":44613373952,\"fmt\":\"44.61B\",\"longFmt\":\"44,613,373,952\"},\"operatingCashflow\":{\"raw\":84385996800,\"fmt\":\"84.39B\",\"longFmt\":\"84,385,996,800\"},\"earningsGrowth\":{\"raw\":-0.113,\"fmt\":\"-11.30%\"},\"revenueGrowth\":{\"raw\":0.02,\"fmt\":\"2.00%\"},\"grossMargins\":{\"raw\":0.68160003,\"fmt\":\"68.16%\"},\"ebitdaMargins\":{\"raw\":0.4799,\"fmt\":\"47.99%\"},\"operatingMargins\":{\"raw\":0.40969002,\"fmt\":\"40.97%\"},\"profitMargins\":{\"raw\":0.33048,\"fmt\":\"33.05%\"},\"financialCurrency\":\"USD\"}}],\"error\":null}}\n"
     ]
    }
   ],
   "source": [
    "apikey=\"3kCiTpLt322XoDfkQGkHv3G1Kebq2ZqM909hLrje\"\n",
    "\n",
    "url = \"https://yfapi.net/v11/finance/quoteSummary/\" + stock + \"?lang=en&region=US&modules=financialData\"\n",
    "mod = [\"defaultKeyStatistics\", \"assetProfile\"]\n",
    "querystring = {\"symbols\":stock, \"modules\":mod}\n",
    "\n",
    "headers = {\n",
    "    'x-api-key': apikey\n",
    "    }\n",
    "\n",
    "response = requests.request(\"GET\", url, headers=headers)\n",
    "\n",
    "print(response.text)"
   ]
  },
  {
   "cell_type": "code",
   "execution_count": 9,
   "metadata": {},
   "outputs": [
    {
     "name": "stdout",
     "output_type": "stream",
     "text": [
      "283.66\n"
     ]
    }
   ],
   "source": [
    "stock_json3 = response.json()\n",
    "current_price = stock_json3['quoteSummary']['result'][0][\"financialData\"][\"currentPrice\"][\"fmt\"]\n",
    "print(current_price)"
   ]
  },
  {
   "cell_type": "code",
   "execution_count": 10,
   "metadata": {},
   "outputs": [
    {
     "name": "stdout",
     "output_type": "stream",
     "text": [
      "291.24\n"
     ]
    }
   ],
   "source": [
    "target_mean_price = stock_json3['quoteSummary']['result'][0][\"financialData\"][\"targetMeanPrice\"][\"fmt\"]\n",
    "print(target_mean_price)"
   ]
  },
  {
   "cell_type": "code",
   "execution_count": 11,
   "metadata": {},
   "outputs": [
    {
     "name": "stdout",
     "output_type": "stream",
     "text": [
      "99.5B\n"
     ]
    }
   ],
   "source": [
    "total_cash = stock_json3['quoteSummary']['result'][0][\"financialData\"][\"totalCash\"][\"fmt\"]\n",
    "print(total_cash)"
   ]
  },
  {
   "cell_type": "code",
   "execution_count": 12,
   "metadata": {},
   "outputs": [
    {
     "name": "stdout",
     "output_type": "stream",
     "text": [
      "33.05%\n"
     ]
    }
   ],
   "source": [
    "profit_margins = stock_json3['quoteSummary']['result'][0][\"financialData\"][\"profitMargins\"][\"fmt\"]\n",
    "print(profit_margins)"
   ]
  },
  {
   "cell_type": "code",
   "execution_count": 13,
   "metadata": {},
   "outputs": [
    {
     "name": "stdout",
     "output_type": "stream",
     "text": [
      "{\"quoteResponse\":{\"result\":[{\"language\":\"en-US\",\"region\":\"US\",\"quoteType\":\"EQUITY\",\"typeDisp\":\"Equity\",\"quoteSourceName\":\"Nasdaq Real Time Price\",\"triggerable\":true,\"customPriceAlertConfidence\":\"HIGH\",\"currency\":\"USD\",\"priceHint\":2,\"exchange\":\"NMS\",\"shortName\":\"Microsoft Corporation\",\"longName\":\"Microsoft Corporation\",\"messageBoardId\":\"finmb_21835\",\"exchangeTimezoneName\":\"America/New_York\",\"exchangeTimezoneShortName\":\"EDT\",\"gmtOffSetMilliseconds\":-14400000,\"market\":\"us_market\",\"esgPopulated\":false,\"marketState\":\"REGULAR\",\"regularMarketChangePercent\":0.29346856,\"regularMarketPrice\":283.66,\"epsCurrentYear\":9.35,\"priceEpsCurrentYear\":30.337967,\"sharesOutstanding\":7443800064,\"bookValue\":24.592,\"fiftyDayAverage\":265.6484,\"fiftyDayAverageChange\":18.011597,\"fiftyDayAverageChangePercent\":0.06780239,\"twoHundredDayAverage\":254.30965,\"twoHundredDayAverageChange\":29.350357,\"twoHundredDayAverageChangePercent\":0.11541189,\"marketCap\":2111508316160,\"forwardPE\":26.411547,\"priceToBook\":11.534646,\"sourceInterval\":15,\"exchangeDataDelayedBy\":0,\"averageAnalystRating\":\"1.9 - Buy\",\"tradeable\":false,\"cryptoTradeable\":false,\"firstTradeDateMilliseconds\":511108200000,\"regularMarketChange\":0.8300171,\"regularMarketTime\":1681327488,\"regularMarketDayHigh\":287.01,\"regularMarketDayRange\":\"281.96 - 287.01\",\"regularMarketDayLow\":281.96,\"regularMarketVolume\":19675530,\"regularMarketPreviousClose\":282.83,\"bid\":284.47,\"ask\":284.57,\"bidSize\":14,\"askSize\":10,\"fullExchangeName\":\"NasdaqGS\",\"financialCurrency\":\"USD\",\"regularMarketOpen\":284.79,\"averageDailyVolume3Month\":31871231,\"averageDailyVolume10Day\":25765990,\"fiftyTwoWeekLowChange\":70.23001,\"fiftyTwoWeekLowChangePercent\":0.3290541,\"fiftyTwoWeekRange\":\"213.43 - 294.18\",\"fiftyTwoWeekHighChange\":-10.519989,\"fiftyTwoWeekHighChangePercent\":-0.035760384,\"fiftyTwoWeekLow\":213.43,\"fiftyTwoWeekHigh\":294.18,\"dividendDate\":1686182400,\"earningsTimestamp\":1674599400,\"earningsTimestampStart\":1682333940,\"earningsTimestampEnd\":1682683200,\"trailingAnnualDividendRate\":2.6,\"trailingPE\":31.517778,\"trailingAnnualDividendYield\":0.009192801,\"epsTrailingTwelveMonths\":9.0,\"epsForward\":10.74,\"displayName\":\"Microsoft\",\"symbol\":\"MSFT\"}],\"error\":null}}\n"
     ]
    }
   ],
   "source": [
    "apikey=\"3kCiTpLt322XoDfkQGkHv3G1Kebq2ZqM909hLrje\"\n",
    "\n",
    "url = \"https://yfapi.net/v6/finance/quote\"\n",
    "\n",
    "querystring = {\"symbols\":stock}\n",
    "\n",
    "headers = {\n",
    "    'x-api-key': apikey\n",
    "    }\n",
    "\n",
    "response = requests.request(\"GET\", url, headers=headers, params=querystring)\n",
    "\n",
    "print(response.text)"
   ]
  },
  {
   "cell_type": "code",
   "execution_count": 14,
   "metadata": {},
   "outputs": [
    {
     "name": "stdout",
     "output_type": "stream",
     "text": [
      "Microsoft Corporation\n"
     ]
    }
   ],
   "source": [
    "stock_json4 = response.json() \n",
    "longname = stock_json4['quoteResponse']['result'][0][\"longName\"]\n",
    "print(longname)"
   ]
  },
  {
   "cell_type": "code",
   "execution_count": 15,
   "metadata": {},
   "outputs": [
    {
     "name": "stdout",
     "output_type": "stream",
     "text": [
      "MSFT\n"
     ]
    }
   ],
   "source": [
    "stock_json4 = response.json() \n",
    "symbol = stock_json4['quoteResponse']['result'][0][\"symbol\"]\n",
    "print(symbol)"
   ]
  },
  {
   "cell_type": "code",
   "execution_count": 16,
   "metadata": {},
   "outputs": [
    {
     "name": "stdout",
     "output_type": "stream",
     "text": [
      "['MSFT', 'Microsoft Corporation', '33.05%', '99.5B', '291.24', '283.66']\n"
     ]
    }
   ],
   "source": [
    "API_call_finale = [symbol, longname, profit_margins, total_cash, target_mean_price, current_price]\n",
    "print(API_call_finale)"
   ]
  },
  {
   "cell_type": "code",
   "execution_count": 19,
   "metadata": {},
   "outputs": [
    {
     "name": "stdout",
     "output_type": "stream",
     "text": [
      "                 columns\n",
      "0                   MSFT\n",
      "1  Microsoft Corporation\n",
      "2                 33.05%\n",
      "3                  99.5B\n",
      "4                 291.24\n",
      "5                 283.66\n"
     ]
    }
   ],
   "source": [
    "columns = ['symbol', 'longname', 'profit_margins', 'total_cash', 'target_mean_price' 'current_price']\n",
    "df = pd.DataFrame(data = API_call_finale, columns = ['columns'])\n",
    "print(df)"
   ]
  }
 ],
 "metadata": {
  "kernelspec": {
   "display_name": "Python 3.8.13 ('py38_default')",
   "language": "python",
   "name": "python3"
  },
  "language_info": {
   "codemirror_mode": {
    "name": "ipython",
    "version": 3
   },
   "file_extension": ".py",
   "mimetype": "text/x-python",
   "name": "python",
   "nbconvert_exporter": "python",
   "pygments_lexer": "ipython3",
   "version": "3.8.13"
  },
  "orig_nbformat": 4,
  "vscode": {
   "interpreter": {
    "hash": "0b89d13efa15026bec8ac80f9cabf9db8b4aa027bf15218d19e9326d2a712ef0"
   }
  }
 },
 "nbformat": 4,
 "nbformat_minor": 2
}
